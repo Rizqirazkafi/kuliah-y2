{
 "cells": [
  {
   "cell_type": "code",
   "execution_count": 3,
   "id": "b779c523",
   "metadata": {},
   "outputs": [],
   "source": [
    "import cv2\n",
    "import numpy as np\n",
    "import math\n",
    "\n",
    "def RGB_TO_HSI(img):\n",
    "\n",
    "    with np.errstate(divide='ignore', invalid='ignore'):\n",
    "\n",
    "        #Load image with 32 bit floats as variable type\n",
    "        bgr = np.float32(img)/255\n",
    "\n",
    "        #Separate color channels\n",
    "        blue = bgr[:,:,0]\n",
    "        green = bgr[:,:,1]\n",
    "        red = bgr[:,:,2]\n",
    "\n",
    "        #Calculate Intensity\n",
    "        def calc_intensity(red, blue, green):\n",
    "            return np.divide(blue + green + red, 3)\n",
    "\n",
    "        #Calculate Saturation\n",
    "        def calc_saturation(red, blue, green):\n",
    "            minimum = np.minimum(np.minimum(red, green), blue)\n",
    "            saturation = 1 - (3 / (red + green + blue + 0.001) * minimum)\n",
    "\n",
    "            return saturation\n",
    "\n",
    "        #Calculate Hue\n",
    "        def calc_hue(red, blue, green):\n",
    "            hue = np.copy(red)\n",
    "\n",
    "            for i in range(0, blue.shape[0]):\n",
    "                for j in range(0, blue.shape[1]):\n",
    "                    hue[i][j] = 0.5 * ((red[i][j] - green[i][j]) + (red[i][j] - blue[i][j])) / \\\n",
    "                                math.sqrt((red[i][j] - green[i][j])**2 +\n",
    "                                        ((red[i][j] - blue[i][j]) * (green[i][j] - blue[i][j])))\n",
    "                    hue[i][j] = math.acos(hue[i][j])\n",
    "\n",
    "                    if blue[i][j] <= green[i][j]:\n",
    "                        hue[i][j] = hue[i][j]\n",
    "                    else:\n",
    "                        hue[i][j] = ((360 * math.pi) / 180.0) - hue[i][j]\n",
    "\n",
    "            return hue\n",
    "\n",
    "        #Merge channels into picture and return image\n",
    "        hsi = cv2.merge((calc_hue(red, blue, green), calc_saturation(red, blue, green), calc_intensity(red, blue, green)))\n",
    "        return hsi\n",
    "img = cv2.imread('images/kson.jpg', 1)\n",
    "hsi = RGB_TO_HSI(img)\n",
    "\n",
    "# Display HSV Image\n",
    "cv2.imshow('HSI Image', hsi)\n",
    "\n",
    "# The three value channels\n",
    "\n",
    "\n",
    "# Wait for a key press and then terminate the program\n",
    "cv2.waitKey(0)\n",
    "cv2.destroyAllWindows()"
   ]
  },
  {
   "cell_type": "code",
   "execution_count": 4,
   "id": "9409944a",
   "metadata": {},
   "outputs": [],
   "source": [
    "cv2.imshow('H Channel', hsi[:, :, 0])\n",
    "cv2.waitKey(0)\n",
    "cv2.destroyAllWindows()"
   ]
  },
  {
   "cell_type": "code",
   "execution_count": 5,
   "id": "44f9b883",
   "metadata": {},
   "outputs": [],
   "source": [
    "cv2.imshow('S Channel', hsi[:, :, 1])\n",
    "cv2.waitKey(0)\n",
    "cv2.destroyAllWindows()"
   ]
  },
  {
   "cell_type": "code",
   "execution_count": 6,
   "id": "85fb50b1",
   "metadata": {},
   "outputs": [],
   "source": [
    "cv2.imshow('I Channel', hsi[:, :, 2])\n",
    "cv2.waitKey(0)\n",
    "cv2.destroyAllWindows()"
   ]
  },
  {
   "cell_type": "code",
   "execution_count": null,
   "id": "658f0e1c",
   "metadata": {},
   "outputs": [],
   "source": []
  }
 ],
 "metadata": {
  "kernelspec": {
   "display_name": "Python 3 (ipykernel)",
   "language": "python",
   "name": "python3"
  },
  "language_info": {
   "codemirror_mode": {
    "name": "ipython",
    "version": 3
   },
   "file_extension": ".py",
   "mimetype": "text/x-python",
   "name": "python",
   "nbconvert_exporter": "python",
   "pygments_lexer": "ipython3",
   "version": "3.10.4"
  }
 },
 "nbformat": 4,
 "nbformat_minor": 5
}
